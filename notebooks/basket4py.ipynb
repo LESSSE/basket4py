{
 "cells": [
  {
   "cell_type": "markdown",
   "metadata": {},
   "source": [
    "# basket4py\n",
    "\n",
    "Congratulations! If you can see this, you managed to install everything you need to start coding. Place the cursor in the cell (\"hello world\") beneath and press the \"play\" button on top of this web page (look at the following image).\n",
    "\n",
    "![Press this button to execute your code](ressources/Lessons/images/ButtonToExecute.png)"
   ]
  },
  {
   "cell_type": "code",
   "execution_count": 1,
   "metadata": {},
   "outputs": [
    {
     "name": "stdout",
     "output_type": "stream",
     "text": [
      " hello world!  hello world!  hello world!  hello world!  hello world!  hello world!  hello world!  hello world! \n"
     ]
    }
   ],
   "source": [
    "print (\" hello world! \" * 8)"
   ]
  },
  {
   "cell_type": "markdown",
   "metadata": {},
   "source": [
    "Now let us do some symbolic computer algebra:"
   ]
  },
  {
   "cell_type": "code",
   "execution_count": 2,
   "metadata": {},
   "outputs": [
    {
     "data": {
      "text/plain": [
       "(-1)**n"
      ]
     },
     "execution_count": 2,
     "metadata": {},
     "output_type": "execute_result"
    }
   ],
   "source": [
    "import sympy\n",
    "from sympy import I, pi\n",
    "\n",
    "n1=sympy.Symbol(\"n\")\n",
    "n2=sympy.Symbol(\"n\",integer=True)\n",
    "n3=sympy.Symbol(\"n\",odd=True)\n",
    "\n",
    "sympy.cos(n2*pi)"
   ]
  },
  {
   "cell_type": "markdown",
   "metadata": {},
   "source": [
    "Now we use sympy to calculate with fractions"
   ]
  },
  {
   "cell_type": "code",
   "execution_count": 3,
   "metadata": {},
   "outputs": [
    {
     "name": "stdout",
     "output_type": "stream",
     "text": [
      "55/338\n",
      "22/5\n",
      "27/26\n"
     ]
    }
   ],
   "source": [
    "r1=sympy.Rational(11,13)\n",
    "r2=sympy.Rational(5,26)\n",
    "\n",
    "print(r1*r2)\n",
    "print(r1/r2)\n",
    "print(r1+r2)"
   ]
  },
  {
   "cell_type": "markdown",
   "metadata": {},
   "source": [
    "Now we use sympy to work with terms"
   ]
  },
  {
   "cell_type": "code",
   "execution_count": 4,
   "metadata": {},
   "outputs": [
    {
     "data": {
      "text/plain": [
       "2*x**2 - x*(x + 1) - 2*x"
      ]
     },
     "execution_count": 4,
     "metadata": {},
     "output_type": "execute_result"
    }
   ],
   "source": [
    "x=sympy.Symbol(\"x\")\n",
    "expr=2*(x**2-x)-x*(x+1)\n",
    "expr"
   ]
  },
  {
   "cell_type": "code",
   "execution_count": 5,
   "metadata": {},
   "outputs": [
    {
     "data": {
      "text/plain": [
       "x*(x - 3)"
      ]
     },
     "execution_count": 5,
     "metadata": {},
     "output_type": "execute_result"
    }
   ],
   "source": [
    "expr.simplify()"
   ]
  },
  {
   "cell_type": "markdown",
   "metadata": {},
   "source": [
    "We use matplotlib to visualize some functions"
   ]
  },
  {
   "cell_type": "code",
   "execution_count": 9,
   "metadata": {},
   "outputs": [
    {
     "data": {
      "text/plain": [
       "<matplotlib.legend.Legend at 0x7fd36cbbe710>"
      ]
     },
     "execution_count": 9,
     "metadata": {},
     "output_type": "execute_result"
    },
    {
     "data": {
      "image/png": "[encoded data removed]",
      "text/plain": [
       "<matplotlib.figure.Figure at 0x7fd36cc692e8>"
      ]
     },
     "metadata": {},
     "output_type": "display_data"
    }
   ],
   "source": [
    "%matplotlib inline\n",
    "import matplotlib as mpl\n",
    "#c.IPKernelApp.pyplot = u'inline'\n",
    "import matplotlib.pyplot as plt\n",
    "#from mpl_toolkits.mplot3d.axes3d import Axes3D\n",
    "import numpy as np\n",
    "import sympy \n",
    "x=np.linspace(-5,2,100)\n",
    "y1=x**3 + 5*x**2 + 10\n",
    "y2=10*x**2 + 10*x\n",
    "y3=6*x + 10\n",
    "fig, ax = plt.subplots()\n",
    "ax.plot(x,y1, color='blue', label=\"y(x)\")\n",
    "ax.plot(x,y2, color='red', label=\"y'(x)\")\n",
    "ax.plot(x,y3, color='green', label=\"y''(x)\")\n",
    "ax.legend()"
   ]
  },
  {
   "cell_type": "code",
   "execution_count": 10,
   "metadata": {},
   "outputs": [
    {
     "data": {
      "text/plain": [
       "3"
      ]
     },
     "execution_count": 10,
     "metadata": {},
     "output_type": "execute_result"
    }
   ],
   "source": [
    "import snuggs\n",
    "snuggs.eval('(+ 1 2)')"
   ]
  },
  {
   "cell_type": "code",
   "execution_count": 8,
   "metadata": {},
   "outputs": [
    {
     "name": "stdout",
     "output_type": "stream",
     "text": [
      "+-----------+------+------------+-----------------+\n",
      "| City name | Area | Population | Annual Rainfall |\n",
      "+-----------+------+------------+-----------------+\n",
      "| Adelaide  | 1295 |  1158259   |      600.5      |\n",
      "| Brisbane  | 5905 |  1857594   |      1146.4     |\n",
      "| Darwin    | 112  |   120900   |      1714.7     |\n",
      "| Hobart    | 1357 |   205556   |      619.5      |\n",
      "| Sydney    | 2058 |  4336374   |      1214.8     |\n",
      "| Melbourne | 1566 |  3806092   |      646.9      |\n",
      "| Perth     | 5386 |  1554769   |      869.4      |\n",
      "+-----------+------+------------+-----------------+\n"
     ]
    }
   ],
   "source": [
    "from prettytable import PrettyTable\n",
    "import csv\n",
    "\n",
    "x = PrettyTable([\"City name\", \"Area\", \"Population\", \"Annual Rainfall\"])\n",
    "x.align[\"City name\"] = \"l\" # Left align city names\n",
    "x.padding_width = 1 # One space between column edges and contents (default)\n",
    "x.add_row([\"Adelaide\",1295, 1158259, 600.5])\n",
    "x.add_row([\"Brisbane\",5905, 1857594, 1146.4])\n",
    "x.add_row([\"Darwin\", 112, 120900, 1714.7])\n",
    "x.add_row([\"Hobart\", 1357, 205556, 619.5])\n",
    "x.add_row([\"Sydney\", 2058, 4336374, 1214.8])\n",
    "x.add_row([\"Melbourne\", 1566, 3806092, 646.9])\n",
    "x.add_row([\"Perth\", 5386, 1554769, 869.4])\n",
    "print (x)"
   ]
  },
  {
   "cell_type": "code",
   "execution_count": null,
   "metadata": {},
   "outputs": [],
   "source": []
  }
 ],
 "metadata": {
  "kernelspec": {
   "display_name": "Python 3",
   "language": "python",
   "name": "python3"
  },
  "language_info": {
   "codemirror_mode": {
    "name": "ipython",
    "version": 3
   },
   "file_extension": ".py",
   "mimetype": "text/x-python",
   "name": "python",
   "nbconvert_exporter": "python",
   "pygments_lexer": "ipython3",
   "version": "3.6.4"
  }
 },
 "nbformat": 4,
 "nbformat_minor": 1
}
